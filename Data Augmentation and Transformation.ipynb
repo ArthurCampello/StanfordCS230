{
 "cells": [
  {
   "cell_type": "code",
   "execution_count": 122,
   "metadata": {},
   "outputs": [],
   "source": [
    "import numpy as np\n",
    "import matplotlib.pyplot as plt\n",
    "import csv\n",
    "import pandas as pd"
   ]
  },
  {
   "cell_type": "code",
   "execution_count": 123,
   "metadata": {},
   "outputs": [],
   "source": [
    "def augment_scalar(data):\n",
    "    \n",
    "    d_X_x1 = data[0:2, 0:data.shape[1]] # input positions of mass 1\n",
    "    d_X_x2 = data[2:4, 0:data.shape[1]] # input positions of mass 2\n",
    "    d_X_x3 = data[4:6, 0:data.shape[1]] # input positions of mass 3\n",
    "\n",
    "    d_X_v1 = data[6+0:6+2, 0:data.shape[1]] # input velocities of mass 1\n",
    "    d_X_v2 = data[6+2:6+4, 0:data.shape[1]] # input velocities of mass 2\n",
    "    d_X_v3 = data[6+4:6+6, 0:data.shape[1]] # input velocities of mass 3\n",
    "\n",
    "    d_Y_x1 = data[12+0:12+2, 0:data.shape[1]] # output positions of mass 1\n",
    "    d_Y_x2 = data[12+2:12+4, 0:data.shape[1]] # output positions of mass 2\n",
    "    d_Y_x3 = data[12+4:12+6, 0:data.shape[1]] # output positions of mass 3\n",
    "\n",
    "    d_Y_v1 = data[18+0:18+2, 0:data.shape[1]] # output velocities of mass 1\n",
    "    d_Y_v2 = data[18+2:18+4, 0:data.shape[1]] # output velocities of mass 2\n",
    "    d_Y_v3 = data[18+4:18+6, 0:data.shape[1]] # output velocities of mass 3\n",
    "\n",
    "    # data with original permutation (1,2,3)\n",
    "    block_1 = np.vstack((d_X_x1, d_X_x2, d_X_x3, d_X_v1, d_X_v2, d_X_v3, d_Y_x1, d_Y_x2, d_Y_x3, d_Y_v1, d_Y_v2, d_Y_v3))\n",
    "    print(block_1.shape)\n",
    "\n",
    "    # data with original permutation (1,3,2)\n",
    "    block_2 = np.vstack((d_X_x1, d_X_x3, d_X_x2, d_X_v1, d_X_v3, d_X_v2, d_Y_x1, d_Y_x3, d_Y_x2, d_Y_v1, d_Y_v3, d_Y_v2))\n",
    "\n",
    "    # data with original permutation (2,1,3)\n",
    "    block_3 = np.vstack((d_X_x2, d_X_x1, d_X_x3, d_X_v2, d_X_v1, d_X_v3, d_Y_x2, d_Y_x1, d_Y_x3, d_Y_v2, d_Y_v1, d_Y_v3))\n",
    "\n",
    "    # data with original permutation (2,3,1)\n",
    "    block_4 = np.vstack((d_X_x2, d_X_x3, d_X_x1, d_X_v2, d_X_v3, d_X_v1, d_Y_x2, d_Y_x3, d_Y_x1, d_Y_v2, d_Y_v3, d_Y_v1))\n",
    "\n",
    "    # data with original permutation (3,1,2)\n",
    "    block_5 = np.vstack((d_X_x3, d_X_x1, d_X_x2, d_X_v3, d_X_v1, d_X_v2, d_Y_x3, d_Y_x1, d_Y_x2, d_Y_v3, d_Y_v1, d_Y_v2))\n",
    "\n",
    "    # data with original permutation (3,2,1)\n",
    "    block_6 = np.vstack((d_X_x3, d_X_x2, d_X_x1, d_X_v3, d_X_v2, d_X_v1, d_Y_x3, d_Y_x2, d_Y_x1, d_Y_v3, d_Y_v2, d_Y_v1))\n",
    "    \n",
    "    # returns augmented data\n",
    "    return np.vstack((block_1, block_2, block_3, block_4, block_5, block_6))"
   ]
  },
  {
   "cell_type": "code",
   "execution_count": 124,
   "metadata": {},
   "outputs": [],
   "source": [
    "# find r in polar coordinates from x and y in cartesian\n",
    "def r_from_xy(x,y):\n",
    "    return np.sqrt(x**2+y**2)\n",
    "\n",
    "# find theta in polar coordinates from x and y in cartesian\n",
    "def t_from_xy(x,y):\n",
    "    return np.arctan(y/x)\n",
    "\n",
    "# transforms data from cartesian to polar coordinates\n",
    "def cartes_to_polar(data):\n",
    "    # takes in data in cartesian coordinates and returns data in polar coordinates\n",
    "    \n",
    "    n = data.shape[1] # number of data points\n",
    " \n",
    "    for i in range(12): # loops over mass entries\n",
    "        for j in range(n): # loops over data points\n",
    "            data[int(2*i)][j] = r_from_xy(data[int(2*i)][j],data[int(2*i+1)][j]) # finds r values\n",
    "            data[int(2*i+1)][j] = t_from_xy(data[int(2*i)][j],data[int(2*i+1)][j]) # finds theta values\n",
    "        \n",
    "    return data # returns data in polar coordinates"
   ]
  },
  {
   "cell_type": "code",
   "execution_count": 134,
   "metadata": {},
   "outputs": [],
   "source": [
    "# find binary vector from scalar value as specified in report\n",
    "def v_from_x(x,n):\n",
    "    \n",
    "    # finds and returns v as defined by equation in report\n",
    "    return [np.round(2**(i-2)*np.mod(x+1,2**(2-i))) for i in range(1,n+1)]\n",
    "\n",
    "def x_from_v(v):\n",
    "    \n",
    "    # finds and returns x as defined by equation in report\n",
    "    return sum([v[i]/2**(i) for i in range(len(v))])-1\n",
    "\n",
    "# transforms data from scalar values to binary vectors  \n",
    "def cartes_to_binary(data, n):\n",
    "    # takes in data and n, binary vector length\n",
    "    \n",
    "    bdata = np.zeros((int(data.shape[0]*n),data.shape[1]))\n",
    "    \n",
    "    for i in range(data.shape[0]): # loops through data features \n",
    "        for j in range(data.shape[1]): # loops through data points\n",
    "\n",
    "            bdata[int(n*i):int(n*(i+1)),j] = v_from_x(data[i][j],n) # converts scalar value to binary vector\n",
    "            \n",
    "    return bdata # returns data with points as binary vector (requires reshaping for use)\n",
    "\n",
    "# transforms data from scalar values to binary vectors  \n",
    "def binary_to_cartes(bdata, n):\n",
    "    # takes in data and n, binary vector length\n",
    "    \n",
    "    data = np.zeros((int(bdata.shape[0]/n),bdata.shape[1]))\n",
    "    \n",
    "    for i in range(data.shape[0]): # loops through data features \n",
    "        for j in range(data.shape[1]): # loops through data points\n",
    "\n",
    "            data[i,j] = x_from_v(bdata[int(n*i):int(n*(i+1)),j]) # converts scalar value to binary vector\n",
    "            \n",
    "    return data # returns data with points as binary vector (requires reshaping for use)"
   ]
  },
  {
   "cell_type": "code",
   "execution_count": 135,
   "metadata": {},
   "outputs": [
    {
     "name": "stdout",
     "output_type": "stream",
     "text": [
      "[0.0, 0.0, 1.0, 0.0, 0.0, 1.0, 1.0]\n",
      "-0.703125\n"
     ]
    }
   ],
   "source": [
    "x = -0.69\n",
    "v = v_from_x(x,7)\n",
    "print(v)\n",
    "print(x_from_v(v))"
   ]
  },
  {
   "cell_type": "code",
   "execution_count": 154,
   "metadata": {},
   "outputs": [
    {
     "name": "stdout",
     "output_type": "stream",
     "text": [
      "-0.6704239085665442\n",
      "-0.6875\n"
     ]
    }
   ],
   "source": [
    "a = np.random.uniform(-1,1)\n",
    "print(a)\n",
    "print(x_from_v(v_from_x(a,6)))"
   ]
  },
  {
   "cell_type": "code",
   "execution_count": 149,
   "metadata": {},
   "outputs": [],
   "source": [
    "data = np.array([[0.1, 0.2, 0.3],[-0.1,0.5,-0.3]])"
   ]
  },
  {
   "cell_type": "code",
   "execution_count": 150,
   "metadata": {},
   "outputs": [
    {
     "name": "stdout",
     "output_type": "stream",
     "text": [
      "[[ 0.09960938  0.19921875  0.29882812]\n",
      " [-0.1015625   0.         -0.30078125]]\n"
     ]
    }
   ],
   "source": [
    "n = 10\n",
    "bdata = cartes_to_binary(data, n)\n",
    "#print(bdata)\n",
    "data = binary_to_cartes(bdata, n)\n",
    "print(data)"
   ]
  },
  {
   "cell_type": "code",
   "execution_count": null,
   "metadata": {},
   "outputs": [],
   "source": []
  },
  {
   "cell_type": "code",
   "execution_count": null,
   "metadata": {},
   "outputs": [],
   "source": []
  }
 ],
 "metadata": {
  "kernelspec": {
   "display_name": "Python 3",
   "language": "python",
   "name": "python3"
  },
  "language_info": {
   "codemirror_mode": {
    "name": "ipython",
    "version": 3
   },
   "file_extension": ".py",
   "mimetype": "text/x-python",
   "name": "python",
   "nbconvert_exporter": "python",
   "pygments_lexer": "ipython3",
   "version": "3.7.1"
  }
 },
 "nbformat": 4,
 "nbformat_minor": 4
}
