{
 "cells": [
  {
   "cell_type": "markdown",
   "metadata": {},
   "source": [
    "This part is responsible for generating data from full 3-Body Finite-Difference Simulations and storing it into CSV files"
   ]
  },
  {
   "cell_type": "code",
   "execution_count": 10,
   "metadata": {},
   "outputs": [],
   "source": [
    "# necessary imports\n",
    "import numpy as np\n",
    "import matplotlib.pyplot as plt\n",
    "import csv"
   ]
  },
  {
   "cell_type": "code",
   "execution_count": 11,
   "metadata": {},
   "outputs": [],
   "source": [
    "# This function generates random initial positions and velocities of the three masses\n",
    "# in x-y coordinates (i.e. x and y positions and velocities for each mass = 12 variables)\n",
    "# All variables are initially drawn from a N(0,1) distribution with the positions and\n",
    "# velocities in both directions shifted to zero. This ensures that one remains in the \n",
    "# \"center of mass frame\" and the data remains bounded without loss of generality\n",
    "\n",
    "# function has no inputs and outputs positions x and velovities v [both with shape = (6,1)]\n",
    "\n",
    "def gen_rand_xv():\n",
    "    x = np.random.rand(6)\n",
    "    (mx, my) = (np.mean([x[0], x[2], x[4]]), np.mean([x[1], x[3], x[5]])) \n",
    "    (x[0], x[2], x[4]) = (x[0]-mx, x[2]-mx, x[4]-mx)\n",
    "    (x[1], x[3], x[5]) = (x[1]-my, x[3]-my, x[5]-my)\n",
    "\n",
    "    v = 2*np.random.rand(6)\n",
    "    (mvx, mvy) = (np.mean([v[0], v[2], v[4]]), np.mean([v[1], v[3], v[5]])) \n",
    "    (v[0], v[2], v[4]) = (v[0]-mvx, v[2]-mvx, v[4]-mvx)\n",
    "    (v[1], v[3], v[5]) = (v[1]-mvy, v[3]-mvy, v[5]-mvy)\n",
    "    return x, v"
   ]
  },
  {
   "cell_type": "code",
   "execution_count": 12,
   "metadata": {},
   "outputs": [],
   "source": [
    "# This functions updates the velocities and positions of the masses according to the \n",
    "# force equation for the force between masses 1 and 2: $F_{1,2}=g/d(1,2)^2$ where d(1,2),\n",
    "# where d(1,2) represents the distance between the masses\n",
    "\n",
    "# function takes in initial position vector x, velocity vector v, attractive force magnitude g, and time step dt\n",
    "# function outputs altered x and v after mutual attraction of masses during time step dt\n",
    "\n",
    "def update_phase_space(x, v, g, dt):\n",
    "    eps = 0.001\n",
    "    dx12 = x[2]-x[0]\n",
    "    dx13 = x[4]-x[0]\n",
    "    dx23 = x[4]-x[2]\n",
    "    dy12 = x[3]-x[1]\n",
    "    dy13 = x[5]-x[1]\n",
    "    dy23 = x[5]-x[3]\n",
    "    \n",
    "    d12sq = (dx12**2 + dy12**2 + eps)**(3/2)\n",
    "    d13sq = (dx13**2 + dy13**2 + eps)**(3/2)  \n",
    "    d23sq = (dx23**2 + dy23**2 + eps)**(3/2)\n",
    "    \n",
    "    a_1_x = dx12/d12sq + dx13/d13sq  \n",
    "    a_1_y = dy12/d12sq + dy13/d13sq\n",
    "    \n",
    "    a_2_x = -dx12/d12sq + dx23/d23sq \n",
    "    a_2_y = -dy12/d12sq + dy23/d23sq\n",
    "    \n",
    "    a_3_x = -dx13/d13sq + -dx23/d23sq  \n",
    "    a_3_y = -dy13/d13sq + -dy23/d23sq\n",
    "    \n",
    "    a = g*np.array([a_1_x, a_1_y, a_2_x, a_2_y, a_3_x, a_3_y])\n",
    "    vn = dt*a+v\n",
    "    xn = dt**2*a + dt*v + x\n",
    "    return xn, vn"
   ]
  },
  {
   "cell_type": "code",
   "execution_count": 13,
   "metadata": {},
   "outputs": [],
   "source": [
    "# This function creates a full trajectory of the masses given initial conditions,\n",
    "# a time step, and a number of simulated time steps. This is the full finite-difference\n",
    "# calculation that the machine learning task seeks to expedite\n",
    "\n",
    "# function takes in initial position vector x0, velocity vector v0, attractive force magnitude g,\n",
    "# time step dt, and number of time steps t_steps\n",
    "# function outputs log of positions and velocities for each time step [res_x and res_v with shape = (t_steps, 6)]\n",
    "\n",
    "def create_trajectory(x0, v0, g, dt, t_steps):\n",
    "    res_x = np.zeros((t_steps, 6))\n",
    "    res_v = np.zeros((t_steps, 6))\n",
    "    res_x[0,:] = x0 \n",
    "    res_v[0,:] = v0\n",
    "    for i in range(1,t_steps):\n",
    "        (xn, vn) = update_phase_space(res_x[i-1,:], res_v[i-1,:], g, dt)\n",
    "        res_x[i,:] = xn\n",
    "        res_v[i,:] = vn\n",
    "    return res_x, res_v"
   ]
  },
  {
   "cell_type": "code",
   "execution_count": 14,
   "metadata": {},
   "outputs": [],
   "source": [
    "# This functions generates random initial conditions, finds the final conditions \n",
    "# after some number of time steps, and outputs both as input and output data for training/testing\n",
    "\n",
    "# function takes in attractive force magnitude g, time step dt, and number of time steps t_steps\n",
    "# function outputs the initial positions and velocities X and final ones Y [both of shape = (12,1)]\n",
    "\n",
    "def gen_X_Y(g, dt, t_steps):\n",
    "    (x, v) = gen_rand_xv()\n",
    "    (res_x, res_v) = create_trajectory(x, v, g, dt, t_steps)\n",
    "    X = np.hstack((res_x[0], res_v[0]))\n",
    "    Y = np.hstack((res_x[-1], res_v[-1]))\n",
    "    return X, Y"
   ]
  },
  {
   "cell_type": "code",
   "execution_count": 15,
   "metadata": {},
   "outputs": [],
   "source": [
    "# This function plots random trajectories for the purposes of testing and visualization\n",
    "# Initial points are shown in red and final ones in black\n",
    "\n",
    "# function takes in attractive force magnitude g, time step dt, and number of time steps t_steps\n",
    "# function does not output anything but shows trajectory plot\n",
    "\n",
    "def plot_traj(g, dt, t_steps):\n",
    "    (X, Y) = gen_X_Y(g, dt, t_steps)\n",
    "    (res_x, res_v) = create_trajectory(X[0:6], X[6:12], g, dt, t_steps)\n",
    "    \n",
    "    plt.plot([X[0],X[2],X[4]],[X[1], X[3], X[5]],'ro')\n",
    "    plt.plot(res_x[:,0], res_x[:,1])\n",
    "    plt.plot(res_x[:,2], res_x[:,3])\n",
    "    plt.plot(res_x[:,4], res_x[:,5])\n",
    "    plt.plot([Y[0],Y[2],Y[4]],[Y[1], Y[3], Y[5]],'ko')\n",
    "    plt.xlim([-0.5,0.5])\n",
    "    plt.ylim([-0.5,0.5])\n",
    "    plt.title('Chaotic Trajectories of Three Mutually-Attracting Masses')\n",
    "    plt.xlabel('x-position')\n",
    "    plt.ylabel('y-position')\n",
    "    plt.show()"
   ]
  },
  {
   "cell_type": "code",
   "execution_count": 16,
   "metadata": {},
   "outputs": [
    {
     "data": {
      "image/png": "[encoded data removed]",
      "text/plain": [
       "<Figure size 432x288 with 1 Axes>"
      ]
     },
     "metadata": {
      "needs_background": "light"
     },
     "output_type": "display_data"
    }
   ],
   "source": [
    "plot_traj(1, 0.001, 500)"
   ]
  },
  {
   "cell_type": "code",
   "execution_count": 17,
   "metadata": {},
   "outputs": [],
   "source": [
    "# Generates .csv file with non-augmented (X,Y) data combined in rows\n",
    "# and m columns with different randomized instances\n",
    "\n",
    "\n",
    "# function takes in attractive force magnitude g, time step dt, number of time steps t_steps, and number of examples m\n",
    "# function has no output but writes data to a .csv file\n",
    "\n",
    "def gen_data_file(g, dt, t_steps, m):\n",
    "    name = 'data_m-'+str(m)+'_g-'+str(g)+'dt-'+str(dt)[2:]+'ts-'+str(t_steps)+'.csv'\n",
    "    print(name)\n",
    "    wtr = csv.writer(open (name, 'w'), delimiter=',', lineterminator='\\n')\n",
    "    for i in range(m+1):\n",
    "        (X, Y) = gen_X_Y(1, .001, 500)\n",
    "        wtr.writerow (np.hstack((X, Y)))"
   ]
  },
  {
   "cell_type": "code",
   "execution_count": 19,
   "metadata": {},
   "outputs": [
    {
     "name": "stdout",
     "output_type": "stream",
     "text": [
      "data_m-20000_g-1dt-001ts-500.csv\n"
     ]
    }
   ],
   "source": [
    "gen_data_file(1, 0.001, 500, 20000)"
   ]
  },
  {
   "cell_type": "code",
   "execution_count": null,
   "metadata": {},
   "outputs": [],
   "source": [
    "wtr = csv.writer(open ('data_2000_s_1_001_500.csv', 'w'), delimiter=',', lineterminator='\\n')\n",
    "for i in range(2000):\n",
    "    (X, Y) = gen_X_Y(1, .001, 500)\n",
    "    wtr.writerow (np.hstack((X, Y)))"
   ]
  },
  {
   "cell_type": "code",
   "execution_count": null,
   "metadata": {},
   "outputs": [],
   "source": []
  },
  {
   "cell_type": "code",
   "execution_count": null,
   "metadata": {},
   "outputs": [],
   "source": []
  },
  {
   "cell_type": "code",
   "execution_count": null,
   "metadata": {},
   "outputs": [],
   "source": []
  },
  {
   "cell_type": "code",
   "execution_count": 777,
   "metadata": {},
   "outputs": [
    {
     "name": "stdout",
     "output_type": "stream",
     "text": [
      "[ 0.06608546  0.37041265  0.0197359  -0.09640853 -0.08582136 -0.27400412\n",
      "  0.11871317 -0.64728521  0.61143729 -0.2862211  -0.73015047  0.93350631]\n",
      "[ 0.09159493 -0.19343276  0.14634286 -0.01763007 -0.23793779  0.21106283\n",
      " -1.47577195  0.77024721  1.07136201 -0.56084112  0.40440993 -0.20940609]\n",
      "[ 0.06608546  0.37041265  0.0197359  -0.09640853 -0.08582136 -0.27400412\n",
      "  0.11871317 -0.64728521  0.61143729 -0.2862211  -0.73015047  0.93350631\n",
      "  0.09159493 -0.19343276  0.14634286 -0.01763007 -0.23793779  0.21106283\n",
      " -1.47577195  0.77024721  1.07136201 -0.56084112  0.40440993 -0.20940609]\n"
     ]
    }
   ],
   "source": [
    "(X, Y) = gen_X_Y(1, .001, 500)\n",
    "print(np.hstack((X, Y)))"
   ]
  },
  {
   "cell_type": "code",
   "execution_count": 770,
   "metadata": {},
   "outputs": [
    {
     "data": {
      "text/plain": [
       "Text(0,0.5,'y-position')"
      ]
     },
     "execution_count": 770,
     "metadata": {},
     "output_type": "execute_result"
    },
    {
     "data": {
      "image/png": "[encoded data removed]",
      "text/plain": [
       "<Figure size 432x288 with 1 Axes>"
      ]
     },
     "metadata": {
      "needs_background": "light"
     },
     "output_type": "display_data"
    }
   ],
   "source": [
    "(x, v) = gen_rand_xv()\n",
    "(res_x, res_v) = create_trajectory(x, v, 1, .001, 500)\n",
    "\n",
    "plt.plot([res_x[0,0],res_x[0,2],res_x[0,4]],[res_x[0,1], res_x[0,3], res_x[0,5]],'ro')\n",
    "plt.plot(res_x[:,0], res_x[:,1])\n",
    "plt.plot(res_x[:,2], res_x[:,3])\n",
    "plt.plot(res_x[:,4], res_x[:,5])\n",
    "plt.xlim([-1,1])\n",
    "plt.ylim([-1,1])\n",
    "plt.title('Chaotic Trajectories of Three Mutually-Attracting Masses')\n",
    "plt.xlabel('x-position')\n",
    "plt.ylabel('y-position')"
   ]
  },
  {
   "cell_type": "code",
   "execution_count": null,
   "metadata": {},
   "outputs": [],
   "source": []
  },
  {
   "cell_type": "code",
   "execution_count": null,
   "metadata": {},
   "outputs": [],
   "source": []
  },
  {
   "cell_type": "code",
   "execution_count": null,
   "metadata": {},
   "outputs": [],
   "source": []
  },
  {
   "cell_type": "code",
   "execution_count": null,
   "metadata": {},
   "outputs": [],
   "source": [
    "# code below tests that data taken is consistent"
   ]
  },
  {
   "cell_type": "code",
   "execution_count": 865,
   "metadata": {},
   "outputs": [],
   "source": [
    "import pandas as pd\n",
    "data = pd.read_csv(\"data_m-2000_g-1dt-001ts-500.csv\", nrows=1)\n",
    "data = [float(i) for i in list(data)]"
   ]
  },
  {
   "cell_type": "code",
   "execution_count": 866,
   "metadata": {},
   "outputs": [
    {
     "name": "stdout",
     "output_type": "stream",
     "text": [
      "[0.2626968562067743, -0.3935497766596279, -0.3448832089109518, -0.15600759518040536, 0.0821863527041774, 0.5495573718400331, 0.9419818531461838, 0.5969887780546463, -0.45394623184433736, -1.0751938959785734, -0.48803562130184674, 0.4782051179239273, 0.4651753731550059, 0.03274878441093864, -0.308323466708136, -0.5740752235969815, -0.15685190644687044, 0.541326439186042, -0.08685063654680147, 0.9948459646442117, 0.4309434577865309, -0.526306764119846, -0.3440928212397296, -0.46853920052436493]\n"
     ]
    }
   ],
   "source": [
    "print(data)"
   ]
  },
  {
   "cell_type": "code",
   "execution_count": 867,
   "metadata": {},
   "outputs": [
    {
     "data": {
      "text/plain": [
       "Text(0,0.5,'y-position')"
      ]
     },
     "execution_count": 867,
     "metadata": {},
     "output_type": "execute_result"
    },
    {
     "data": {
      "image/png": "[encoded data removed]",
      "text/plain": [
       "<Figure size 432x288 with 1 Axes>"
      ]
     },
     "metadata": {
      "needs_background": "light"
     },
     "output_type": "display_data"
    }
   ],
   "source": [
    "(res_x, res_v) = create_trajectory(data[0:6], data[6:12], 1, .001, 500)\n",
    "\n",
    "plt.plot([res_x[0,0],res_x[0,2],res_x[0,4]],[res_x[0,1], res_x[0,3], res_x[0,5]],'ro')\n",
    "plt.plot(res_x[:,0], res_x[:,1])\n",
    "plt.plot(res_x[:,2], res_x[:,3])\n",
    "plt.plot(res_x[:,4], res_x[:,5])\n",
    "plt.plot([data[12],data[14],data[16]],[data[13],data[15],data[17]],'ko')\n",
    "#plt.xlim([-1,1])\n",
    "#plt.ylim([-1,1])\n",
    "plt.title('Chaotic Trajectories of Three Mutually-Attracting Masses')\n",
    "plt.xlabel('x-position')\n",
    "plt.ylabel('y-position')"
   ]
  },
  {
   "cell_type": "code",
   "execution_count": null,
   "metadata": {},
   "outputs": [],
   "source": []
  }
 ],
 "metadata": {
  "kernelspec": {
   "display_name": "Python 3",
   "language": "python",
   "name": "python3"
  },
  "language_info": {
   "codemirror_mode": {
    "name": "ipython",
    "version": 3
   },
   "file_extension": ".py",
   "mimetype": "text/x-python",
   "name": "python",
   "nbconvert_exporter": "python",
   "pygments_lexer": "ipython3",
   "version": "3.7.1"
  }
 },
 "nbformat": 4,
 "nbformat_minor": 4
}
